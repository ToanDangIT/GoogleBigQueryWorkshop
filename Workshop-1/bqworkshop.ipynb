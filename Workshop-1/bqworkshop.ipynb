{
 "cells": [
  {
   "cell_type": "code",
   "execution_count": 1,
   "metadata": {
    "collapsed": false
   },
   "outputs": [
    {
     "name": "stdout",
     "output_type": "stream",
     "text": [
      "Your browser has been opened to visit:\n",
      "\n",
      "    https://accounts.google.com/o/oauth2/auth?scope=https%3A%2F%2Fwww.googleapis.com%2Fauth%2Fbigquery&redirect_uri=http%3A%2F%2Flocalhost%3A8080%2F&response_type=code&client_id=495642085510-k0tmvj2m941jhre2nbqka17vqpjfddtd.apps.googleusercontent.com&access_type=offline\n",
      "\n",
      "If your browser is on a different machine then exit and re-run this\n",
      "application with the command-line parameter \n",
      "\n",
      "  --noauth_local_webserver\n",
      "\n",
      "Authentication successful.\n",
      "Requesting query... ok.\n",
      "Query running...\n",
      "Query done.\n",
      "Cache hit.\n",
      "\n",
      "Retrieving results...\n",
      "  Got page: 1; 44.0% done. Elapsed 8.82 s.\n",
      "  Got page: 2; 87.0% done. Elapsed 16.04 s.\n",
      "  Got page: 3; 100.0% done. Elapsed 18.85 s.\n",
      "Got 201053 rows.\n",
      "\n",
      "Total time taken 24.2 s.\n",
      "Finished at 2016-09-15 11:12:35.\n"
     ]
    }
   ],
   "source": [
    "import pandas as pd\n",
    "from pandas.io import gbq\n",
    "project_id = \"inductive-seat-143318\"\n",
    "query1= \"\"\"SELECT station_number,mean_temp,mean_dew_point,hail\n",
    "           FROM [bigquery-public-data:samples.gsod]\n",
    "           WHERE year = 2000 AND\n",
    "           hail = true\"\"\"\n",
    "query1_res= gbq.read_gbq(query1, project_id, reauth=True)"
   ]
  },
  {
   "cell_type": "code",
   "execution_count": 2,
   "metadata": {
    "collapsed": false
   },
   "outputs": [
    {
     "name": "stdout",
     "output_type": "stream",
     "text": [
      "        station_number  mean_temp  mean_dew_point  hail\n",
      "0                29420  41.099998       36.599998  True\n",
      "1               246390 -36.799999      -42.099998  True\n",
      "2                37760  47.500000       45.500000  True\n",
      "3               725200  48.500000       46.599998  True\n",
      "4               161340  26.400000       20.200001  True\n",
      "5               726185  71.800003       63.799999  True\n",
      "6               696664  29.200001       29.100000  True\n",
      "7               723940  53.000000       44.799999  True\n",
      "8               679830  60.099998       57.900002  True\n",
      "9                30630  62.599998       52.799999  True\n",
      "10              723095  68.199997       64.400002  True\n",
      "11              407100  39.799999       35.599998  True\n",
      "12              724075  38.299999       32.599998  True\n",
      "13              726579  40.000000       39.299999  True\n",
      "14              719485  -6.300000      -10.500000  True\n",
      "15               26200  48.200001       47.000000  True\n",
      "16              722014  78.699997       66.800003  True\n",
      "17              569860  48.599998       39.000000  True\n",
      "18              156130  34.400002             NaN  True\n",
      "19              696894  30.100000       29.000000  True\n",
      "20              700637  42.000000       36.200001  True\n",
      "21              726550  66.500000       58.500000  True\n",
      "22              876450  69.800003       55.500000  True\n",
      "23              719143  47.700001       42.099998  True\n",
      "24              162190  29.500000       26.900000  True\n",
      "25              765390  57.599998       42.099998  True\n",
      "26              726987  37.799999       35.200001  True\n",
      "27               62700  43.200001       38.500000  True\n",
      "28              101220  40.900002       38.200001  True\n",
      "29              101260  40.599998       38.799999  True\n",
      "...                ...        ...             ...   ...\n",
      "201023          782550  76.800003       70.800003  True\n",
      "201024          703950  45.599998       43.799999  True\n",
      "201025          703080  33.000000       29.100000  True\n",
      "201026          142460  34.799999       33.799999  True\n",
      "201027           61830  39.200001             NaN  True\n",
      "201028          152000  29.400000       29.000000  True\n",
      "201029          726185  36.900002       31.799999  True\n",
      "201030          727750  16.100000       12.200000  True\n",
      "201031          477300  49.599998       48.700001  True\n",
      "201032          767383  82.599998       78.599998  True\n",
      "201033          723146  65.500000       63.000000  True\n",
      "201034          725867  25.400000       23.799999  True\n",
      "201035          471190  79.000000       71.800003  True\n",
      "201036          156270   8.100000        5.900000  True\n",
      "201037          151080  41.299999             NaN  True\n",
      "201038          726196  28.400000       24.100000  True\n",
      "201039          578450  68.099998       64.500000  True\n",
      "201040          723106  65.300003       53.400002  True\n",
      "201041          727857  37.700001       34.299999  True\n",
      "201042          722583  54.099998       52.500000  True\n",
      "201043          151450  30.200001       28.700001  True\n",
      "201044          725640  61.400002       56.099998  True\n",
      "201045          724955  51.200001       49.400002  True\n",
      "201046          723096  79.500000       75.400002  True\n",
      "201047          724935  51.400002       48.200001  True\n",
      "201048           77470  70.900002       66.800003  True\n",
      "201049          724760  42.500000       29.200001  True\n",
      "201050          726457  70.699997       63.700001  True\n",
      "201051          370008  66.599998       58.700001  True\n",
      "201052          724463  63.099998       60.900002  True\n",
      "\n",
      "[201053 rows x 4 columns]\n"
     ]
    }
   ],
   "source": [
    "print query1_res"
   ]
  }
 ],
 "metadata": {
  "kernelspec": {
   "display_name": "Python [Root]",
   "language": "python",
   "name": "Python [Root]"
  },
  "language_info": {
   "codemirror_mode": {
    "name": "ipython",
    "version": 2
   },
   "file_extension": ".py",
   "mimetype": "text/x-python",
   "name": "python",
   "nbconvert_exporter": "python",
   "pygments_lexer": "ipython2",
   "version": "2.7.12"
  }
 },
 "nbformat": 4,
 "nbformat_minor": 0
}
